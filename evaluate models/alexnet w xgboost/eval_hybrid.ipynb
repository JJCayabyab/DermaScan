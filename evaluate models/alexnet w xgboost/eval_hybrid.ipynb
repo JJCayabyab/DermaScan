{
 "cells": [
  {
   "cell_type": "code",
   "execution_count": 11,
   "metadata": {},
   "outputs": [],
   "source": [
    "# Cell 1: Import Required Libraries\n",
    "import os\n",
    "import numpy as np\n",
    "import xgboost as xgb\n",
    "from sklearn.metrics import accuracy_score, classification_report, confusion_matrix\n",
    "import matplotlib.pyplot as plt\n",
    "import seaborn as sns\n",
    "import torchvision.datasets as datasets"
   ]
  },
  {
   "cell_type": "code",
   "execution_count": null,
   "metadata": {},
   "outputs": [],
   "source": [
    "# Cell 2: Define Paths and Class Names\n",
    "test_features_path = r'C:\\Users\\Josh\\Desktop\\CUDA\\xgboost\\test_features.npy'  # Path to the saved test features\n",
    "y_test_path = r'C:\\Users\\Josh\\Desktop\\CUDA\\xgboost\\y_test.npy'  # Path to the saved test labels\n",
    "xgb_model_path = r'C:\\Users\\Josh\\Desktop\\CUDA\\xgboost\\55 test.json'  # Path to the saved XGBoost model\n",
    "\n",
    "main_data_dir = r\"C:\\Users\\Josh\\Desktop\\CUDA\\skindiseases\"\n",
    "train_dir = os.path.join(main_data_dir, \"train\")\n",
    "train_dataset = datasets.ImageFolder(root=train_dir)\n",
    "class_n = list(train_dataset.class_to_idx.keys())  \n",
    "print(\"Class to label mapping:\", train_dataset.class_to_idx)\n"
   ]
  },
  {
   "cell_type": "code",
   "execution_count": null,
   "metadata": {},
   "outputs": [],
   "source": [
    "# Cell 3: Load Pre-saved Features and Labels\n",
    "def load_saved_features(features_path, labels_path):\n",
    "    print(\"Loading pre-saved features and labels...\")\n",
    "    features = np.load(features_path)\n",
    "    labels = np.load(labels_path)\n",
    "    return features, labels\n",
    "\n",
    "# Load features and labels\n",
    "test_features, y_test = load_saved_features(test_features_path, y_test_path)\n"
   ]
  },
  {
   "cell_type": "code",
   "execution_count": 14,
   "metadata": {},
   "outputs": [],
   "source": [
    "# Cell 4: Define Model Evaluation Function\n",
    "def evaluate_model(xgb_model_path, features, labels, class_names):\n",
    "    # Load XGBoost model\n",
    "    xgb_model = xgb.XGBClassifier()\n",
    "    xgb_model.load_model(xgb_model_path)\n",
    "    print(f\"Loaded XGBoost model from {xgb_model_path}\")\n",
    "\n",
    "    # Make predictions\n",
    "    predictions = xgb_model.predict(features)\n",
    "    accuracy = accuracy_score(labels, predictions)\n",
    "    print(f'Test Accuracy: {accuracy * 100:.2f}%')\n",
    "    \n",
    "    # Display classification report and confusion matrix\n",
    "    print(\"Classification Report:\\n\", classification_report(labels, predictions, target_names=class_names))\n",
    "    cm = confusion_matrix(labels, predictions)\n",
    "    plt.figure(figsize=(10, 8))\n",
    "    sns.heatmap(cm, annot=True, fmt='d', cmap='Blues', xticklabels=class_names, yticklabels=class_names)\n",
    "    plt.xlabel('Predicted Labels')\n",
    "    plt.ylabel('True Labels')\n",
    "    plt.title('Confusion Matrix on Test Set')\n",
    "    plt.show()\n"
   ]
  },
  {
   "cell_type": "code",
   "execution_count": null,
   "metadata": {},
   "outputs": [],
   "source": [
    "# Cell 5: Evaluate the Model\n",
    "evaluate_model(xgb_model_path, test_features, y_test, class_n)\n"
   ]
  }
 ],
 "metadata": {
  "kernelspec": {
   "display_name": "myenv",
   "language": "python",
   "name": "python3"
  },
  "language_info": {
   "codemirror_mode": {
    "name": "ipython",
    "version": 3
   },
   "file_extension": ".py",
   "mimetype": "text/x-python",
   "name": "python",
   "nbconvert_exporter": "python",
   "pygments_lexer": "ipython3",
   "version": "3.10.0"
  }
 },
 "nbformat": 4,
 "nbformat_minor": 2
}
